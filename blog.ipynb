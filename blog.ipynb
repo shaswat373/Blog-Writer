{
  "nbformat": 4,
  "nbformat_minor": 0,
  "metadata": {
    "colab": {
      "provenance": []
    },
    "kernelspec": {
      "name": "python3",
      "display_name": "Python 3"
    },
    "language_info": {
      "name": "python"
    }
  },
  "cells": [
    {
      "cell_type": "code",
      "source": [
        "!pip install -q transformers accelerate bitsandbytes\n",
        "\n",
        "from transformers import AutoTokenizer, AutoModelForCausalLM, pipeline\n",
        "\n",
        "model_id = \"TheBloke/Mistral-7B-Instruct-v0.1-GPTQ\"\n",
        "\n",
        "# Load tokenizer and quantized model\n",
        "tokenizer = AutoTokenizer.from_pretrained(model_id, use_fast=True)\n",
        "model = AutoModelForCausalLM.from_pretrained(\n",
        "    model_id,\n",
        "    device_map=\"auto\",\n",
        "    trust_remote_code=True,\n",
        "    revision=\"main\"\n",
        ")\n",
        "\n",
        "# Create generation pipeline\n",
        "gen = pipeline(\n",
        "    \"text-generation\",\n",
        "    model=model,\n",
        "    tokenizer=tokenizer,\n",
        "    device_map=\"auto\"\n",
        ")\n",
        "\n",
        "# Function to generate blog post\n",
        "def write_blog(topic, tone=\"informative\", max_new_tokens=600):\n",
        "    prompt = f\"\"\"[INST] Write a {tone} blog post about \"{topic}\". The blog should include an introduction, 2-3 main points, and a conclusion. [/INST]\"\"\"\n",
        "    out = gen(prompt, max_new_tokens=max_new_tokens, temperature=0.7, do_sample=True, top_p=0.95)[0][\"generated_text\"]\n",
        "    print(\"\\nGenerated Blog Post:\\n\")\n",
        "    print(out.replace(prompt, \"\").strip())\n",
        "\n",
        "# CLI loop\n",
        "print(\"🔥 GenAI Blog Post Writer - Mistral 7B\")\n",
        "print(\"Enter a blog topic (or type 'exit')\")\n",
        "while True:\n",
        "    topic = input(\"\\nTopic: \")\n",
        "    if topic.lower().strip() == \"exit\":\n",
        "        break\n",
        "    tone = input(\"Tone (e.g. persuasive, casual, default: informative): \").strip() or \"informative\"\n",
        "    write_blog(topic, tone)\n"
      ],
      "metadata": {
        "id": "JlhU3Yclxn-F"
      },
      "execution_count": null,
      "outputs": []
    }
  ]
}